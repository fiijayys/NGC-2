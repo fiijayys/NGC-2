{
 "cells": [
  {
   "cell_type": "markdown",
   "metadata": {},
   "source": [
    "Task 1  nstruction <br>1.Create function called `number_of_word`.\n",
    "<br>2.This function takes 1 input, `sentence`.\n",
    "<br>3.Inside this function, you can utilize `.split()` method to split the sentence into list of word(s)\n",
    "<br>4.Also, `len()` function to count the element inside a list\n",
    "<br>5.Return the number of word from the sentence.\n",
    "<br>Example:-Input: number_of_word(sentence = ’Hello World!’)\n",
    "<br>-Output: 2-Input: number_of_word(sentence = ’Once Upon a Time in a faraway land’)\n",
    "<br>-Output: 84\n",
    "\n"
   ]
  },
  {
   "cell_type": "code",
   "execution_count": 30,
   "metadata": {},
   "outputs": [],
   "source": [
    "def number_of_word(sentence):\n",
    "    sentence_list=sentence.split()\n",
    "    sentence_list_len=len(sentence_list)\n",
    "    return sentence_list_len\n"
   ]
  },
  {
   "cell_type": "code",
   "execution_count": 31,
   "metadata": {},
   "outputs": [
    {
     "data": {
      "text/plain": [
       "2"
      ]
     },
     "execution_count": 31,
     "metadata": {},
     "output_type": "execute_result"
    }
   ],
   "source": [
    "number_of_word(sentence= \"Hello World!\")"
   ]
  },
  {
   "cell_type": "markdown",
   "metadata": {},
   "source": [
    "Task 2  .1.Create function called `find_multiples`.\n",
    "<br>2.This function takes 3 input: `start_range`, `end_range`, and `multiple`.\n",
    "<br>3.From every number within the given range, check if that number is the mutliples of `multiple`.\n",
    "<br>4.Return list of the possible multiple number(s)"
   ]
  },
  {
   "cell_type": "code",
   "execution_count": 32,
   "metadata": {},
   "outputs": [],
   "source": [
    "# create number start_range to  end_range \n",
    "# eliminitae not in multiple using mod function \n",
    "\n",
    "def find_multiple(start_range,end_range,multiple):\n",
    "    list_output=()\n",
    "    \n",
    "    for i in range(start_range,end_range+1,1):\n",
    "        if i % multiple ==0 :\n",
    "            list_output=list_output+(i,)\n",
    "    return list_output\n",
    "    \n",
    "        "
   ]
  },
  {
   "cell_type": "code",
   "execution_count": 33,
   "metadata": {},
   "outputs": [
    {
     "data": {
      "text/plain": [
       "(5, 10, 15, 20)"
      ]
     },
     "execution_count": 33,
     "metadata": {},
     "output_type": "execute_result"
    }
   ],
   "source": [
    "find_multiple(start_range= 1, end_range= 20, multiple= 5)"
   ]
  },
  {
   "cell_type": "code",
   "execution_count": 34,
   "metadata": {},
   "outputs": [
    {
     "data": {
      "text/plain": [
       "(10, 20, 30, 40, 50)"
      ]
     },
     "execution_count": 34,
     "metadata": {},
     "output_type": "execute_result"
    }
   ],
   "source": [
    "find_multiple(start_range= 1, end_range= 50, multiple= 10)"
   ]
  },
  {
   "cell_type": "markdown",
   "metadata": {},
   "source": [
    "\n",
    "Create function called `Grade_Converter`.\n",
    "<br>2.This function takes input: `convert_to` and n-paired of student(s) name with its respective score.\n",
    "<br>3.Input argument for `convert_to` is either `letter_grade` or `gpa`.\n",
    "<br>4.You can utilize **kwargs input argument to generate n-length paired of student(s) name with its respective score (Dictionary).\n",
    "<br>5.This function will return dictionary of student’s name along with converted Letter Grade or GPA, depending on user input in `convert_to` parameter"
   ]
  },
  {
   "cell_type": "code",
   "execution_count": 35,
   "metadata": {},
   "outputs": [],
   "source": [
    "def Score_to_Gpa(Score):\n",
    "    Gpa=0\n",
    "    if (0<Score<39.9): Gpa=1\n",
    "    elif(40<Score<49.9): Gpa=1.5\n",
    "    elif(50<Score<59):   Gpa=2\n",
    "    elif(60<Score<69.9): Gpa=2.5\n",
    "    elif(70<Score<84.9): Gpa=3\n",
    "    elif(85<Score<100):  Gpa=3.5\n",
    "    return (Gpa)"
   ]
  },
  {
   "cell_type": "code",
   "execution_count": 36,
   "metadata": {},
   "outputs": [],
   "source": [
    "def LetterGrade_to_Gpa(Score):   \n",
    "    letter_grade=0\n",
    "    if  (0<Score<39.9)  : letter_grade='F'\n",
    "    elif(40<Score<49.9) : letter_grade='E'\n",
    "    elif(50<Score<59)   : letter_grade='D'\n",
    "    elif(60<Score<69.9) : letter_grade='C'\n",
    "    elif(70<Score<84.9) : letter_grade='B'\n",
    "    elif(85<Score<100)  : letter_grade='A'\n",
    "    return (letter_grade)"
   ]
  },
  {
   "cell_type": "markdown",
   "metadata": {},
   "source": [
    "Using grade_converter as main function :"
   ]
  },
  {
   "cell_type": "code",
   "execution_count": 37,
   "metadata": {},
   "outputs": [],
   "source": [
    "def Grade_Converter(convert_to,**kwargs):\n",
    "    new_grader={}\n",
    "    if convert_to == 'gpa':\n",
    "        for k in kwargs :\n",
    "            print(k,kwargs[k])\n",
    "            kwargs[k]=Score_to_Gpa(kwargs[k])\n",
    "            new_grader.update({k:kwargs[k]})\n",
    "        \n",
    "    elif (convert_to =='letter_grade'):\n",
    "        for k in kwargs : \n",
    "            kwargs[k]=LetterGrade_to_Gpa(kwargs[k])\n",
    "            new_grader.update({k:kwargs[k]})\n",
    "    return (new_grader)\n",
    "\n",
    "            "
   ]
  },
  {
   "cell_type": "code",
   "execution_count": 38,
   "metadata": {},
   "outputs": [
    {
     "name": "stdout",
     "output_type": "stream",
     "text": [
      "Albert 90\n",
      "Dwi 82\n",
      "Syahdan 58\n",
      "Veronica 84\n"
     ]
    },
    {
     "data": {
      "text/plain": [
       "{'Albert': 3.5, 'Dwi': 3, 'Syahdan': 2, 'Veronica': 3}"
      ]
     },
     "execution_count": 38,
     "metadata": {},
     "output_type": "execute_result"
    }
   ],
   "source": [
    "Grade_Converter(convert_to='gpa', Albert=90, Dwi=82, Syahdan=58, Veronica=84)"
   ]
  },
  {
   "cell_type": "code",
   "execution_count": 39,
   "metadata": {},
   "outputs": [
    {
     "data": {
      "text/plain": [
       "{'Albert': 'A', 'Dwi': 'B', 'Syahdan': 'D', 'Veronica': 'B'}"
      ]
     },
     "execution_count": 39,
     "metadata": {},
     "output_type": "execute_result"
    }
   ],
   "source": [
    "Grade_Converter(convert_to='letter_grade', Albert=90, Dwi=82, Syahdan=58, Veronica=84)"
   ]
  },
  {
   "cell_type": "markdown",
   "metadata": {},
   "source": [
    "Make a fib function with single parameter  my_function(m) "
   ]
  },
  {
   "cell_type": "code",
   "execution_count": 40,
   "metadata": {},
   "outputs": [],
   "source": [
    "def my_function(n): \n",
    "    a=1\n",
    "    fib_before = 1\n",
    "    fib_2before= 0\n",
    "    if (n == 0) : #if n==0 , so there will be no eror \n",
    "        return  (0)\n",
    "    elif(n==1): # if n==1 , so there will be no error \n",
    "        return (1)\n",
    "    elif(n>1): # Should start from 2  so while statment holds true \n",
    "            while (a<n) : \n",
    "                a=a+1 \n",
    "                #Shoufle the fib_before and fib_2before values so it will be use next loop \n",
    "                fib  = fib_before+fib_2before\n",
    "                fib_2before = fib_before\n",
    "                fib_before  = fib  \n",
    "                \n",
    "            return (fib)\n",
    "        \n",
    "        \n",
    "        "
   ]
  },
  {
   "cell_type": "code",
   "execution_count": 41,
   "metadata": {},
   "outputs": [
    {
     "data": {
      "text/plain": [
       "5"
      ]
     },
     "execution_count": 41,
     "metadata": {},
     "output_type": "execute_result"
    }
   ],
   "source": [
    "\n",
    "my_function(5)"
   ]
  },
  {
   "cell_type": "markdown",
   "metadata": {},
   "source": []
  }
 ],
 "metadata": {
  "kernelspec": {
   "display_name": "base",
   "language": "python",
   "name": "python3"
  },
  "language_info": {
   "codemirror_mode": {
    "name": "ipython",
    "version": 3
   },
   "file_extension": ".py",
   "mimetype": "text/x-python",
   "name": "python",
   "nbconvert_exporter": "python",
   "pygments_lexer": "ipython3",
   "version": "3.11.5"
  }
 },
 "nbformat": 4,
 "nbformat_minor": 2
}
